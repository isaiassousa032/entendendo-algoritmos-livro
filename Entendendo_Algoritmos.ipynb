{
  "nbformat": 4,
  "nbformat_minor": 0,
  "metadata": {
    "colab": {
      "provenance": [],
      "authorship_tag": "ABX9TyMaF9OcPxIgSpdA9ME2Af7U"
    },
    "kernelspec": {
      "name": "python3",
      "display_name": "Python 3"
    },
    "language_info": {
      "name": "python"
    }
  },
  "cells": [
    {
      "cell_type": "code",
      "execution_count": null,
      "metadata": {
        "id": "KUGNioHa--Ps"
      },
      "outputs": [],
      "source": [
        "#Pesquisa Binária\n",
        "def pesquisa_binaria(lista,item)"
      ]
    }
  ]
}